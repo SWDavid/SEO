{
 "cells": [
  {
   "cell_type": "code",
   "execution_count": 1,
   "id": "18243565",
   "metadata": {},
   "outputs": [],
   "source": [
    "import pandas as pd\n",
    "import re"
   ]
  },
  {
   "cell_type": "code",
   "execution_count": 2,
   "id": "2755b541",
   "metadata": {},
   "outputs": [],
   "source": [
    "#Links \n",
    "links = pd.read_csv('7c_links_new.csv')\n",
    "\n",
    "#/sitemap/sitemap.xml\n",
    "file1 = open('sitemap1.txt', 'r')\n",
    "sitemap1 = file1.read()\n",
    "\n",
    "#/sitemap.xml\n",
    "file2 = open('sitemap2.xml', 'r')\n",
    "sitemap2 = file2.read()"
   ]
  },
  {
   "cell_type": "code",
   "execution_count": 3,
   "id": "36d899b2",
   "metadata": {},
   "outputs": [
    {
     "data": {
      "text/plain": [
       "'https://www.sevencorners.com/insurance/HWMP8Y3'"
      ]
     },
     "execution_count": 3,
     "metadata": {},
     "output_type": "execute_result"
    }
   ],
   "source": [
    "links_list = list(links['URL'])\n",
    "links_list[0]"
   ]
  },
  {
   "cell_type": "code",
   "execution_count": 4,
   "id": "15e16e91",
   "metadata": {},
   "outputs": [
    {
     "data": {
      "text/html": [
       "<div>\n",
       "<style scoped>\n",
       "    .dataframe tbody tr th:only-of-type {\n",
       "        vertical-align: middle;\n",
       "    }\n",
       "\n",
       "    .dataframe tbody tr th {\n",
       "        vertical-align: top;\n",
       "    }\n",
       "\n",
       "    .dataframe thead th {\n",
       "        text-align: right;\n",
       "    }\n",
       "</style>\n",
       "<table border=\"1\" class=\"dataframe\">\n",
       "  <thead>\n",
       "    <tr style=\"text-align: right;\">\n",
       "      <th></th>\n",
       "      <th>URL</th>\n",
       "    </tr>\n",
       "  </thead>\n",
       "  <tbody>\n",
       "    <tr>\n",
       "      <th>0</th>\n",
       "      <td>/insurance/HWMP8Y3</td>\n",
       "    </tr>\n",
       "    <tr>\n",
       "      <th>1</th>\n",
       "      <td>/insurance/HWMPRPM</td>\n",
       "    </tr>\n",
       "    <tr>\n",
       "      <th>2</th>\n",
       "      <td>/docs/default-source/claims-documents/sc-round...</td>\n",
       "    </tr>\n",
       "    <tr>\n",
       "      <th>3</th>\n",
       "      <td>/insurance/custom/?tracking_code=PlatinumPlans</td>\n",
       "    </tr>\n",
       "    <tr>\n",
       "      <th>4</th>\n",
       "      <td>/insurance/inboundimmigrant/HW7CD3N</td>\n",
       "    </tr>\n",
       "  </tbody>\n",
       "</table>\n",
       "</div>"
      ],
      "text/plain": [
       "                                                 URL\n",
       "0                                 /insurance/HWMP8Y3\n",
       "1                                 /insurance/HWMPRPM\n",
       "2  /docs/default-source/claims-documents/sc-round...\n",
       "3     /insurance/custom/?tracking_code=PlatinumPlans\n",
       "4                /insurance/inboundimmigrant/HW7CD3N"
      ]
     },
     "execution_count": 4,
     "metadata": {},
     "output_type": "execute_result"
    }
   ],
   "source": [
    "clean_links = [i.replace(\"https://www.sevencorners.com\", \"\") for i in links_list]\n",
    "links['URL'] = clean_links\n",
    "links.head(5)"
   ]
  },
  {
   "cell_type": "code",
   "execution_count": 5,
   "id": "28c59ce9",
   "metadata": {
    "scrolled": true
   },
   "outputs": [
    {
     "data": {
      "text/plain": [
       "'/plans/trip-protection/trip-protection-coverage'"
      ]
     },
     "execution_count": 5,
     "metadata": {},
     "output_type": "execute_result"
    }
   ],
   "source": [
    "sitemap1.replace(\"<loc>\", \"\")\n",
    "sitemap1_list = sitemap1.split('\\n')\n",
    "\n",
    "s1 = [i for i in sitemap1_list if \"<loc>\" in i]\n",
    "s1_links = [i.replace(\"    <loc>https://sevencorners.com\", \"\")\n",
    "            .replace(\"</loc>\",\"\") for i in s1]\n",
    "s1_links[0]"
   ]
  },
  {
   "cell_type": "code",
   "execution_count": 6,
   "id": "5b8d6f8d",
   "metadata": {},
   "outputs": [
    {
     "data": {
      "text/plain": [
       "'/adventure-team/post'"
      ]
     },
     "execution_count": 6,
     "metadata": {},
     "output_type": "execute_result"
    }
   ],
   "source": [
    "sitemap2.replace(\"<loc>\", \"\")\n",
    "sitemap2_list = sitemap2.split('\\n')\n",
    "\n",
    "s2 = [i for i in sitemap2_list if \"<loc>\" in i]\n",
    "s2_links = [i.replace(\"\\t\\t<loc>https://sevencorners.com\", \"\")\n",
    "            .replace(\"</loc>\",\"\") for i in s2]\n",
    "s2_links[0]"
   ]
  },
  {
   "cell_type": "code",
   "execution_count": 7,
   "id": "f52d077f",
   "metadata": {},
   "outputs": [],
   "source": [
    "in_sitemap1 = []\n",
    "in_sitemap2 = []\n",
    "\n",
    "for i in list(links['URL']):\n",
    "    if i in s1_links: \n",
    "        in_sitemap1.append('Yes')\n",
    "    else:\n",
    "        in_sitemap1.append('No')\n",
    "        \n",
    "for i in list(links['URL']):\n",
    "    if i in s2_links: \n",
    "        in_sitemap2.append('Yes')\n",
    "    else:\n",
    "        in_sitemap2.append('No')        "
   ]
  },
  {
   "cell_type": "code",
   "execution_count": 8,
   "id": "b70f8b20",
   "metadata": {},
   "outputs": [
    {
     "data": {
      "text/html": [
       "<div>\n",
       "<style scoped>\n",
       "    .dataframe tbody tr th:only-of-type {\n",
       "        vertical-align: middle;\n",
       "    }\n",
       "\n",
       "    .dataframe tbody tr th {\n",
       "        vertical-align: top;\n",
       "    }\n",
       "\n",
       "    .dataframe thead th {\n",
       "        text-align: right;\n",
       "    }\n",
       "</style>\n",
       "<table border=\"1\" class=\"dataframe\">\n",
       "  <thead>\n",
       "    <tr style=\"text-align: right;\">\n",
       "      <th></th>\n",
       "      <th>URL</th>\n",
       "      <th>In Sitemap1</th>\n",
       "      <th>In Sitemap2</th>\n",
       "    </tr>\n",
       "  </thead>\n",
       "  <tbody>\n",
       "    <tr>\n",
       "      <th>0</th>\n",
       "      <td>/insurance/HWMP8Y3</td>\n",
       "      <td>No</td>\n",
       "      <td>No</td>\n",
       "    </tr>\n",
       "    <tr>\n",
       "      <th>1</th>\n",
       "      <td>/insurance/HWMPRPM</td>\n",
       "      <td>No</td>\n",
       "      <td>No</td>\n",
       "    </tr>\n",
       "    <tr>\n",
       "      <th>2</th>\n",
       "      <td>/docs/default-source/claims-documents/sc-round...</td>\n",
       "      <td>No</td>\n",
       "      <td>No</td>\n",
       "    </tr>\n",
       "    <tr>\n",
       "      <th>3</th>\n",
       "      <td>/insurance/custom/?tracking_code=PlatinumPlans</td>\n",
       "      <td>No</td>\n",
       "      <td>No</td>\n",
       "    </tr>\n",
       "    <tr>\n",
       "      <th>4</th>\n",
       "      <td>/insurance/inboundimmigrant/HW7CD3N</td>\n",
       "      <td>No</td>\n",
       "      <td>No</td>\n",
       "    </tr>\n",
       "    <tr>\n",
       "      <th>...</th>\n",
       "      <td>...</td>\n",
       "      <td>...</td>\n",
       "      <td>...</td>\n",
       "    </tr>\n",
       "    <tr>\n",
       "      <th>328</th>\n",
       "      <td>/insurance</td>\n",
       "      <td>No</td>\n",
       "      <td>No</td>\n",
       "    </tr>\n",
       "    <tr>\n",
       "      <th>329</th>\n",
       "      <td>/insurance/liaison_student/HWDYZWN</td>\n",
       "      <td>No</td>\n",
       "      <td>No</td>\n",
       "    </tr>\n",
       "    <tr>\n",
       "      <th>330</th>\n",
       "      <td>/insurance/HWDKDW8</td>\n",
       "      <td>No</td>\n",
       "      <td>No</td>\n",
       "    </tr>\n",
       "    <tr>\n",
       "      <th>331</th>\n",
       "      <td>/blog/student-travel/fool-proof-hostel-friendl...</td>\n",
       "      <td>Yes</td>\n",
       "      <td>No</td>\n",
       "    </tr>\n",
       "    <tr>\n",
       "      <th>332</th>\n",
       "      <td>/about/documents</td>\n",
       "      <td>Yes</td>\n",
       "      <td>Yes</td>\n",
       "    </tr>\n",
       "  </tbody>\n",
       "</table>\n",
       "<p>333 rows × 3 columns</p>\n",
       "</div>"
      ],
      "text/plain": [
       "                                                   URL In Sitemap1 In Sitemap2\n",
       "0                                   /insurance/HWMP8Y3          No          No\n",
       "1                                   /insurance/HWMPRPM          No          No\n",
       "2    /docs/default-source/claims-documents/sc-round...          No          No\n",
       "3       /insurance/custom/?tracking_code=PlatinumPlans          No          No\n",
       "4                  /insurance/inboundimmigrant/HW7CD3N          No          No\n",
       "..                                                 ...         ...         ...\n",
       "328                                         /insurance          No          No\n",
       "329                 /insurance/liaison_student/HWDYZWN          No          No\n",
       "330                                 /insurance/HWDKDW8          No          No\n",
       "331  /blog/student-travel/fool-proof-hostel-friendl...         Yes          No\n",
       "332                                   /about/documents         Yes         Yes\n",
       "\n",
       "[333 rows x 3 columns]"
      ]
     },
     "execution_count": 8,
     "metadata": {},
     "output_type": "execute_result"
    }
   ],
   "source": [
    "links[\"In Sitemap1\"] = in_sitemap1\n",
    "links[\"In Sitemap2\"] = in_sitemap2\n",
    "links"
   ]
  },
  {
   "cell_type": "code",
   "execution_count": 10,
   "id": "9cd3ffd1",
   "metadata": {},
   "outputs": [],
   "source": [
    "#links.to_csv(\"link_check.csv\")"
   ]
  },
  {
   "cell_type": "code",
   "execution_count": null,
   "id": "fb14d96e",
   "metadata": {},
   "outputs": [],
   "source": []
  }
 ],
 "metadata": {
  "kernelspec": {
   "display_name": "Python 3",
   "language": "python",
   "name": "python3"
  },
  "language_info": {
   "codemirror_mode": {
    "name": "ipython",
    "version": 3
   },
   "file_extension": ".py",
   "mimetype": "text/x-python",
   "name": "python",
   "nbconvert_exporter": "python",
   "pygments_lexer": "ipython3",
   "version": "3.8.8"
  }
 },
 "nbformat": 4,
 "nbformat_minor": 5
}
